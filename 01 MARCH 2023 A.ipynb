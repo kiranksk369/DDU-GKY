{
 "cells": [
  {
   "cell_type": "markdown",
   "id": "31277ed1",
   "metadata": {},
   "source": [
    "# SOME ADDITIONAL WORK"
   ]
  },
  {
   "cell_type": "code",
   "execution_count": 1,
   "id": "b0b76abd",
   "metadata": {},
   "outputs": [
    {
     "name": "stdout",
     "output_type": "stream",
     "text": [
      "Country\n",
      "Canada    250.0\n",
      "Mexico    250.0\n",
      "USA       125.0\n",
      "Name: Sales, dtype: float64\n"
     ]
    }
   ],
   "source": [
    "import pandas as pd\n",
    "\n",
    "# create a DataFrame\n",
    "data = {'Country': ['USA', 'Canada', 'USA', 'Canada', 'Mexico'],\n",
    "        'Sales': [100, 200, 150, 300, 250]}\n",
    "df = pd.DataFrame(data)\n",
    "\n",
    "# group the data by country and calculate the mean sales for each country\n",
    "grouped_data = df.groupby('Country')['Sales'].mean()\n",
    "\n",
    "# print the results\n",
    "print(grouped_data)\n"
   ]
  },
  {
   "cell_type": "code",
   "execution_count": null,
   "id": "b66360f4",
   "metadata": {},
   "outputs": [],
   "source": []
  }
 ],
 "metadata": {
  "kernelspec": {
   "display_name": "Python 3 (ipykernel)",
   "language": "python",
   "name": "python3"
  },
  "language_info": {
   "codemirror_mode": {
    "name": "ipython",
    "version": 3
   },
   "file_extension": ".py",
   "mimetype": "text/x-python",
   "name": "python",
   "nbconvert_exporter": "python",
   "pygments_lexer": "ipython3",
   "version": "3.9.13"
  }
 },
 "nbformat": 4,
 "nbformat_minor": 5
}

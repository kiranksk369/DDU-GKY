{
 "cells": [
  {
   "cell_type": "markdown",
   "id": "106f26f8",
   "metadata": {},
   "source": [
    "# NUMPY"
   ]
  },
  {
   "cell_type": "code",
   "execution_count": 1,
   "id": "595eed37",
   "metadata": {},
   "outputs": [],
   "source": [
    "import numpy as np"
   ]
  },
  {
   "cell_type": "markdown",
   "id": "3f927554",
   "metadata": {},
   "source": [
    "# 1 D array"
   ]
  },
  {
   "cell_type": "code",
   "execution_count": 2,
   "id": "23df2ede",
   "metadata": {},
   "outputs": [],
   "source": [
    "x = np.array([5,10,16,20,25,30,35,40])"
   ]
  },
  {
   "cell_type": "markdown",
   "id": "2338ac02",
   "metadata": {},
   "source": [
    "# Attributes of arrays"
   ]
  },
  {
   "cell_type": "markdown",
   "id": "3dae159e",
   "metadata": {},
   "source": [
    "## dype"
   ]
  },
  {
   "cell_type": "markdown",
   "id": "d2cf25fc",
   "metadata": {},
   "source": [
    "## ndim"
   ]
  },
  {
   "cell_type": "markdown",
   "id": "cc2a806f",
   "metadata": {},
   "source": [
    "## size"
   ]
  },
  {
   "cell_type": "markdown",
   "id": "0eb73f72",
   "metadata": {},
   "source": [
    "## shape "
   ]
  },
  {
   "cell_type": "code",
   "execution_count": 3,
   "id": "cf34a353",
   "metadata": {},
   "outputs": [
    {
     "data": {
      "text/plain": [
       "dtype('int32')"
      ]
     },
     "execution_count": 3,
     "metadata": {},
     "output_type": "execute_result"
    }
   ],
   "source": [
    "x.dtype"
   ]
  },
  {
   "cell_type": "code",
   "execution_count": 4,
   "id": "65f582ab",
   "metadata": {},
   "outputs": [
    {
     "data": {
      "text/plain": [
       "(8,)"
      ]
     },
     "execution_count": 4,
     "metadata": {},
     "output_type": "execute_result"
    }
   ],
   "source": [
    "x.shape"
   ]
  },
  {
   "cell_type": "code",
   "execution_count": 5,
   "id": "c94ee340",
   "metadata": {},
   "outputs": [
    {
     "data": {
      "text/plain": [
       "1"
      ]
     },
     "execution_count": 5,
     "metadata": {},
     "output_type": "execute_result"
    }
   ],
   "source": [
    "x.ndim"
   ]
  },
  {
   "cell_type": "code",
   "execution_count": 6,
   "id": "a4e1c556",
   "metadata": {},
   "outputs": [
    {
     "data": {
      "text/plain": [
       "8"
      ]
     },
     "execution_count": 6,
     "metadata": {},
     "output_type": "execute_result"
    }
   ],
   "source": [
    "x.size"
   ]
  },
  {
   "cell_type": "code",
   "execution_count": 7,
   "id": "c06c39b3",
   "metadata": {},
   "outputs": [
    {
     "data": {
      "text/plain": [
       "5"
      ]
     },
     "execution_count": 7,
     "metadata": {},
     "output_type": "execute_result"
    }
   ],
   "source": [
    "x[0]"
   ]
  },
  {
   "cell_type": "code",
   "execution_count": 8,
   "id": "874dce64",
   "metadata": {},
   "outputs": [
    {
     "data": {
      "text/plain": [
       "20"
      ]
     },
     "execution_count": 8,
     "metadata": {},
     "output_type": "execute_result"
    }
   ],
   "source": [
    "x[3]"
   ]
  },
  {
   "cell_type": "markdown",
   "id": "040b6e58",
   "metadata": {},
   "source": [
    "# Multi Dimensional array"
   ]
  },
  {
   "cell_type": "code",
   "execution_count": 9,
   "id": "966b4164",
   "metadata": {},
   "outputs": [],
   "source": [
    "x_2d = np.array([[23,34,43], [45,55,65]])"
   ]
  },
  {
   "cell_type": "code",
   "execution_count": 10,
   "id": "61ab7811",
   "metadata": {},
   "outputs": [
    {
     "data": {
      "text/plain": [
       "array([[23, 34, 43],\n",
       "       [45, 55, 65]])"
      ]
     },
     "execution_count": 10,
     "metadata": {},
     "output_type": "execute_result"
    }
   ],
   "source": [
    "x_2d"
   ]
  },
  {
   "cell_type": "code",
   "execution_count": 11,
   "id": "2072d4c4",
   "metadata": {},
   "outputs": [
    {
     "data": {
      "text/plain": [
       "dtype('int32')"
      ]
     },
     "execution_count": 11,
     "metadata": {},
     "output_type": "execute_result"
    }
   ],
   "source": [
    "x_2d.dtype"
   ]
  },
  {
   "cell_type": "code",
   "execution_count": 12,
   "id": "e4d8999a",
   "metadata": {},
   "outputs": [
    {
     "data": {
      "text/plain": [
       "(2, 3)"
      ]
     },
     "execution_count": 12,
     "metadata": {},
     "output_type": "execute_result"
    }
   ],
   "source": [
    "x_2d.shape"
   ]
  },
  {
   "cell_type": "code",
   "execution_count": 13,
   "id": "6f427820",
   "metadata": {},
   "outputs": [
    {
     "data": {
      "text/plain": [
       "2"
      ]
     },
     "execution_count": 13,
     "metadata": {},
     "output_type": "execute_result"
    }
   ],
   "source": [
    "x_2d.ndim"
   ]
  },
  {
   "cell_type": "code",
   "execution_count": 14,
   "id": "00fdc035",
   "metadata": {},
   "outputs": [
    {
     "data": {
      "text/plain": [
       "6"
      ]
     },
     "execution_count": 14,
     "metadata": {},
     "output_type": "execute_result"
    }
   ],
   "source": [
    "x_2d.size"
   ]
  },
  {
   "cell_type": "code",
   "execution_count": 15,
   "id": "cf4b2666",
   "metadata": {},
   "outputs": [
    {
     "data": {
      "text/plain": [
       "array([23, 34, 43])"
      ]
     },
     "execution_count": 15,
     "metadata": {},
     "output_type": "execute_result"
    }
   ],
   "source": [
    "x_2d[0]"
   ]
  },
  {
   "cell_type": "markdown",
   "id": "3acc38dd",
   "metadata": {},
   "source": [
    "# Another type of multi dimensional arrays"
   ]
  },
  {
   "cell_type": "code",
   "execution_count": 16,
   "id": "fead6ce0",
   "metadata": {},
   "outputs": [],
   "source": [
    "another_type_array = np.array([[[1,2,3,4]]])"
   ]
  },
  {
   "cell_type": "code",
   "execution_count": 17,
   "id": "fd88f4b8",
   "metadata": {},
   "outputs": [
    {
     "data": {
      "text/plain": [
       "array([[[1, 2, 3, 4]]])"
      ]
     },
     "execution_count": 17,
     "metadata": {},
     "output_type": "execute_result"
    }
   ],
   "source": [
    "another_type_array"
   ]
  },
  {
   "cell_type": "code",
   "execution_count": 18,
   "id": "af095601",
   "metadata": {},
   "outputs": [
    {
     "data": {
      "text/plain": [
       "(1, 1, 4)"
      ]
     },
     "execution_count": 18,
     "metadata": {},
     "output_type": "execute_result"
    }
   ],
   "source": [
    "another_type_array.shape"
   ]
  },
  {
   "cell_type": "code",
   "execution_count": 19,
   "id": "2b2d0b8b",
   "metadata": {},
   "outputs": [
    {
     "data": {
      "text/plain": [
       "3"
      ]
     },
     "execution_count": 19,
     "metadata": {},
     "output_type": "execute_result"
    }
   ],
   "source": [
    "another_type_array.ndim"
   ]
  },
  {
   "cell_type": "markdown",
   "id": "977decc7",
   "metadata": {},
   "source": [
    "# first element in first array"
   ]
  },
  {
   "cell_type": "code",
   "execution_count": 20,
   "id": "a47a7aa0",
   "metadata": {},
   "outputs": [
    {
     "data": {
      "text/plain": [
       "23"
      ]
     },
     "execution_count": 20,
     "metadata": {},
     "output_type": "execute_result"
    }
   ],
   "source": [
    "x_2d[0][0]"
   ]
  },
  {
   "cell_type": "markdown",
   "id": "3b3eb935",
   "metadata": {},
   "source": [
    "# second element in second array"
   ]
  },
  {
   "cell_type": "code",
   "execution_count": 21,
   "id": "efbea779",
   "metadata": {},
   "outputs": [
    {
     "data": {
      "text/plain": [
       "55"
      ]
     },
     "execution_count": 21,
     "metadata": {},
     "output_type": "execute_result"
    }
   ],
   "source": [
    "x_2d[1][1]"
   ]
  },
  {
   "cell_type": "markdown",
   "id": "9abbb3e5",
   "metadata": {},
   "source": [
    "# lets change its data type into floAt"
   ]
  },
  {
   "cell_type": "code",
   "execution_count": 22,
   "id": "a1d09a25",
   "metadata": {},
   "outputs": [],
   "source": [
    "a_2d = np.array([[10,20,30] , [32,43,45,]], dtype = float)"
   ]
  },
  {
   "cell_type": "code",
   "execution_count": 23,
   "id": "eb44d7c8",
   "metadata": {},
   "outputs": [
    {
     "data": {
      "text/plain": [
       "array([[10., 20., 30.],\n",
       "       [32., 43., 45.]])"
      ]
     },
     "execution_count": 23,
     "metadata": {},
     "output_type": "execute_result"
    }
   ],
   "source": [
    "a_2d"
   ]
  },
  {
   "cell_type": "markdown",
   "id": "6445999e",
   "metadata": {},
   "source": [
    "# Lets create a bigger array"
   ]
  },
  {
   "cell_type": "code",
   "execution_count": 25,
   "id": "c759c186",
   "metadata": {},
   "outputs": [],
   "source": [
    "a_bigger = np.array([\n",
    "[\n",
    "[10,20,30,40],[6,3,6,1],[1,1,1,2]\n",
    "] ,\n",
    "[\n",
    "[9,9,5,5], [2,5,3,6], [0,0,3,2]\n",
    "] ,\n",
    "[\n",
    "[12,33,22,1], [22,1,22,32], [0,2,3,1]    \n",
    "] ,   \n",
    "    \n",
    "], dtype = float)"
   ]
  },
  {
   "cell_type": "code",
   "execution_count": 26,
   "id": "2a1b09bb",
   "metadata": {},
   "outputs": [
    {
     "data": {
      "text/plain": [
       "(3, 3, 4)"
      ]
     },
     "execution_count": 26,
     "metadata": {},
     "output_type": "execute_result"
    }
   ],
   "source": [
    "a_bigger.shape"
   ]
  },
  {
   "cell_type": "code",
   "execution_count": 27,
   "id": "4376e626",
   "metadata": {},
   "outputs": [
    {
     "data": {
      "text/plain": [
       "3"
      ]
     },
     "execution_count": 27,
     "metadata": {},
     "output_type": "execute_result"
    }
   ],
   "source": [
    "a_bigger.ndim"
   ]
  },
  {
   "cell_type": "code",
   "execution_count": 28,
   "id": "e828cfff",
   "metadata": {},
   "outputs": [
    {
     "data": {
      "text/plain": [
       "36"
      ]
     },
     "execution_count": 28,
     "metadata": {},
     "output_type": "execute_result"
    }
   ],
   "source": [
    "a_bigger.size"
   ]
  },
  {
   "cell_type": "code",
   "execution_count": 29,
   "id": "20d985b6",
   "metadata": {},
   "outputs": [
    {
     "data": {
      "text/plain": [
       "1.0"
      ]
     },
     "execution_count": 29,
     "metadata": {},
     "output_type": "execute_result"
    }
   ],
   "source": [
    "a_bigger[2][2][3]"
   ]
  },
  {
   "cell_type": "code",
   "execution_count": 30,
   "id": "88eada39",
   "metadata": {},
   "outputs": [
    {
     "data": {
      "text/plain": [
       "array([0., 2., 3., 1.])"
      ]
     },
     "execution_count": 30,
     "metadata": {},
     "output_type": "execute_result"
    }
   ],
   "source": [
    "a_bigger[2][2]"
   ]
  },
  {
   "cell_type": "markdown",
   "id": "527fbf91",
   "metadata": {},
   "source": [
    "# Filling Arrays"
   ]
  },
  {
   "cell_type": "markdown",
   "id": "2cc1d635",
   "metadata": {},
   "source": [
    "### np.full"
   ]
  },
  {
   "cell_type": "markdown",
   "id": "c4f295cd",
   "metadata": {},
   "source": [
    "### By using the full functions for example, we fill an array of a certain shape with the same number. in this case we create a 3*5*4 matrix, which is filled with sevens"
   ]
  },
  {
   "cell_type": "code",
   "execution_count": 32,
   "id": "efe72541",
   "metadata": {},
   "outputs": [],
   "source": [
    "a_full = np.full((3,4,5,),7)"
   ]
  },
  {
   "cell_type": "code",
   "execution_count": 33,
   "id": "ad3a2351",
   "metadata": {},
   "outputs": [
    {
     "data": {
      "text/plain": [
       "array([[[7, 7, 7, 7, 7],\n",
       "        [7, 7, 7, 7, 7],\n",
       "        [7, 7, 7, 7, 7],\n",
       "        [7, 7, 7, 7, 7]],\n",
       "\n",
       "       [[7, 7, 7, 7, 7],\n",
       "        [7, 7, 7, 7, 7],\n",
       "        [7, 7, 7, 7, 7],\n",
       "        [7, 7, 7, 7, 7]],\n",
       "\n",
       "       [[7, 7, 7, 7, 7],\n",
       "        [7, 7, 7, 7, 7],\n",
       "        [7, 7, 7, 7, 7],\n",
       "        [7, 7, 7, 7, 7]]])"
      ]
     },
     "execution_count": 33,
     "metadata": {},
     "output_type": "execute_result"
    }
   ],
   "source": [
    "a_full"
   ]
  },
  {
   "cell_type": "code",
   "execution_count": 34,
   "id": "1da5ff55",
   "metadata": {},
   "outputs": [],
   "source": [
    "a_full = np.full((5,4,3),7)"
   ]
  },
  {
   "cell_type": "code",
   "execution_count": 42,
   "id": "49b54583",
   "metadata": {},
   "outputs": [
    {
     "data": {
      "text/plain": [
       "array([[[7, 7, 7],\n",
       "        [7, 7, 7],\n",
       "        [7, 7, 7],\n",
       "        [7, 7, 7]],\n",
       "\n",
       "       [[7, 7, 7],\n",
       "        [7, 7, 7],\n",
       "        [7, 7, 7],\n",
       "        [7, 7, 7]],\n",
       "\n",
       "       [[7, 7, 7],\n",
       "        [7, 7, 7],\n",
       "        [7, 7, 7],\n",
       "        [7, 7, 7]],\n",
       "\n",
       "       [[7, 7, 7],\n",
       "        [7, 7, 7],\n",
       "        [7, 7, 7],\n",
       "        [7, 7, 7]],\n",
       "\n",
       "       [[7, 7, 7],\n",
       "        [7, 7, 7],\n",
       "        [7, 7, 7],\n",
       "        [7, 7, 7]]])"
      ]
     },
     "execution_count": 42,
     "metadata": {},
     "output_type": "execute_result"
    }
   ],
   "source": [
    "a_full"
   ]
  },
  {
   "cell_type": "code",
   "execution_count": 43,
   "id": "25aa82a4",
   "metadata": {},
   "outputs": [
    {
     "data": {
      "text/plain": [
       "3"
      ]
     },
     "execution_count": 43,
     "metadata": {},
     "output_type": "execute_result"
    }
   ],
   "source": [
    "a_full.ndim"
   ]
  },
  {
   "cell_type": "markdown",
   "id": "f406885d",
   "metadata": {},
   "source": [
    "# ZEROS AND ONES"
   ]
  },
  {
   "cell_type": "markdown",
   "id": "1f03d38e",
   "metadata": {},
   "source": [
    "## for the cases that we want arrays full of zeros or ones, we even have specific function. "
   ]
  },
  {
   "cell_type": "code",
   "execution_count": 45,
   "id": "b53b586d",
   "metadata": {},
   "outputs": [
    {
     "data": {
      "text/plain": [
       "array([[0., 0., 0.],\n",
       "       [0., 0., 0.],\n",
       "       [0., 0., 0.]])"
      ]
     },
     "execution_count": 45,
     "metadata": {},
     "output_type": "execute_result"
    }
   ],
   "source": [
    "a_zeros = np.zeros((3,3))\n",
    "a_zeros"
   ]
  },
  {
   "cell_type": "code",
   "execution_count": 47,
   "id": "951e0351",
   "metadata": {},
   "outputs": [
    {
     "data": {
      "text/plain": [
       "array([[[1., 1., 1., 1.],\n",
       "        [1., 1., 1., 1.],\n",
       "        [1., 1., 1., 1.]],\n",
       "\n",
       "       [[1., 1., 1., 1.],\n",
       "        [1., 1., 1., 1.],\n",
       "        [1., 1., 1., 1.]]])"
      ]
     },
     "execution_count": 47,
     "metadata": {},
     "output_type": "execute_result"
    }
   ],
   "source": [
    "b_ones = np.ones((2,3,4,))\n",
    "b_ones"
   ]
  },
  {
   "cell_type": "code",
   "execution_count": 48,
   "id": "0e423a2d",
   "metadata": {},
   "outputs": [
    {
     "data": {
      "text/plain": [
       "3"
      ]
     },
     "execution_count": 48,
     "metadata": {},
     "output_type": "execute_result"
    }
   ],
   "source": [
    "b_ones.ndim"
   ]
  },
  {
   "cell_type": "markdown",
   "id": "394cc0e2",
   "metadata": {},
   "source": [
    "# EMPTY AND RANDOM"
   ]
  },
  {
   "cell_type": "markdown",
   "id": "52e0027a",
   "metadata": {},
   "source": [
    "### other options would be to create an empty array or one that is filled with randome numbers . for this, we use the respective functions once again."
   ]
  },
  {
   "cell_type": "code",
   "execution_count": 51,
   "id": "649b0b9a",
   "metadata": {},
   "outputs": [
    {
     "data": {
      "text/plain": [
       "array([[6.23042070e-307, 4.67296746e-307, 1.69121096e-306,\n",
       "        2.33646845e-307],\n",
       "       [1.11256817e-306, 1.06811422e-306, 1.42417221e-306,\n",
       "        1.11260619e-306],\n",
       "       [8.90094053e-307, 1.86919378e-306, 1.06809792e-306,\n",
       "        1.37962456e-306],\n",
       "       [1.69111861e-306, 1.78020169e-306, 1.37961777e-306,\n",
       "        7.56599807e-307]])"
      ]
     },
     "execution_count": 51,
     "metadata": {},
     "output_type": "execute_result"
    }
   ],
   "source": [
    "e = np.empty((4,4))\n",
    "e"
   ]
  },
  {
   "cell_type": "code",
   "execution_count": null,
   "id": "e0cd2fc0",
   "metadata": {},
   "outputs": [],
   "source": []
  }
 ],
 "metadata": {
  "kernelspec": {
   "display_name": "Python 3 (ipykernel)",
   "language": "python",
   "name": "python3"
  },
  "language_info": {
   "codemirror_mode": {
    "name": "ipython",
    "version": 3
   },
   "file_extension": ".py",
   "mimetype": "text/x-python",
   "name": "python",
   "nbconvert_exporter": "python",
   "pygments_lexer": "ipython3",
   "version": "3.9.13"
  }
 },
 "nbformat": 4,
 "nbformat_minor": 5
}
